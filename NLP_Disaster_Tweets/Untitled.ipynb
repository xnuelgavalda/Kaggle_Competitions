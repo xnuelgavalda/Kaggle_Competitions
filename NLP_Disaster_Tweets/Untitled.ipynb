{
 "cells": [
  {
   "cell_type": "code",
   "execution_count": 1,
   "metadata": {},
   "outputs": [
    {
     "ename": "NameError",
     "evalue": "name 'train' is not defined",
     "output_type": "error",
     "traceback": [
      "\u001b[0;31m---------------------------------------------------------------------------\u001b[0m",
      "\u001b[0;31mNameError\u001b[0m                                 Traceback (most recent call last)",
      "\u001b[0;32m<ipython-input-1-3812e43d2737>\u001b[0m in \u001b[0;36m<module>\u001b[0;34m\u001b[0m\n\u001b[1;32m     10\u001b[0m         \u001b[0;32mreturn\u001b[0m \u001b[0;36m4\u001b[0m\u001b[0;34m\u001b[0m\u001b[0;34m\u001b[0m\u001b[0m\n\u001b[1;32m     11\u001b[0m \u001b[0;34m\u001b[0m\u001b[0m\n\u001b[0;32m---> 12\u001b[0;31m \u001b[0mtrain\u001b[0m\u001b[0;34m[\u001b[0m\u001b[0;34m'hour'\u001b[0m\u001b[0;34m]\u001b[0m \u001b[0;34m=\u001b[0m \u001b[0mtrain\u001b[0m\u001b[0;34m[\u001b[0m\u001b[0;34m'hour'\u001b[0m\u001b[0;34m]\u001b[0m\u001b[0;34m.\u001b[0m\u001b[0mapply\u001b[0m\u001b[0;34m(\u001b[0m\u001b[0menconding\u001b[0m\u001b[0;34m)\u001b[0m\u001b[0;34m\u001b[0m\u001b[0;34m\u001b[0m\u001b[0m\n\u001b[0m\u001b[1;32m     13\u001b[0m \u001b[0mtrain\u001b[0m\u001b[0;34m.\u001b[0m\u001b[0mhead\u001b[0m\u001b[0;34m(\u001b[0m\u001b[0;34m)\u001b[0m\u001b[0;34m\u001b[0m\u001b[0;34m\u001b[0m\u001b[0m\n",
      "\u001b[0;31mNameError\u001b[0m: name 'train' is not defined"
     ]
    }
   ],
   "source": [
    "# Encoding \"hour\" column for the ML model\n",
    "def enconding(x):\n",
    "    if 0 <= x < 6:\n",
    "        return 0\n",
    "    elif 6 <= x < 12:\n",
    "        return 1\n",
    "    elif 12 <= x < 18:\n",
    "        return 2\n",
    "    elif 18 <= 24:\n",
    "        return 4\n",
    "    \n",
    "train['hour'] = train['hour'].apply(enconding)\n",
    "train.head()\n",
    "\n",
    "\n",
    "\n",
    "train['hour'].unique()\n",
    "\n",
    "\n",
    "test['hour'] = test['hour'].apply(enconding)\n",
    "test.head()\n",
    "\n",
    "test['hour'].unique()\n",
    "\n",
    "\n",
    "\n",
    "# Droping \"datetime\" column\n",
    "train = train.drop(['datetime'], axis=1)\n",
    "test = test.drop(['datetime'], axis=1)\n",
    "\n",
    "# Rental demand based on scaled hours\n",
    "figure, axes = plt.subplots(figsize=(10,5))\n",
    "\n",
    "hours = train.groupby(['hour']).agg(\"mean\")[\"count\"]\n",
    "hours.plot(kind=\"bar\", ax=axes)\n",
    "plt.title(\"Demand based on Scaled Hours\")\n",
    "axes.set_xlabel(\"Time in hours\")\n",
    "axes.set_ylabel(\"Average Rental Demand\")"
   ]
  }
 ],
 "metadata": {
  "kernelspec": {
   "display_name": "Python 3",
   "language": "python",
   "name": "python3"
  },
  "language_info": {
   "codemirror_mode": {
    "name": "ipython",
    "version": 3
   },
   "file_extension": ".py",
   "mimetype": "text/x-python",
   "name": "python",
   "nbconvert_exporter": "python",
   "pygments_lexer": "ipython3",
   "version": "3.7.3"
  }
 },
 "nbformat": 4,
 "nbformat_minor": 2
}
